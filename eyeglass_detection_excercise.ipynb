{
 "cells": [
  {
   "cell_type": "markdown",
   "metadata": {},
   "source": [
    "# Eye glasses detection\n",
    "\n",
    "In this project, we will create a binary eye-glasses detector.\n",
    "    We are going to use [CelebA dataset](http://mmlab.ie.cuhk.edu.hk/projects/CelebA.html) as our dataset. This dataset has face attributes, one of these attributes is eyeglasses.\n",
    "\n",
    "## Intruduction\n",
    "\n",
    "### Guidelines\n",
    "\n",
    "Outline:\n",
    "\n",
    "1. Install face detector [DSFDDetector](https://github.com/hukkelas/DSFD-Pytorch-Inference)\n",
    "2. Crop faces using face detector\n",
    "3. Separate faces with glasses and those without glasses using the attributes\n",
    "4. build a train-dataloader and a test-dataloader (with 2 classes: `eyeglasses` `no-eyeglasses`)\n",
    "5. build and train the model\n",
    "6. evaluate the model\n",
    "\n",
    "You are allowed to and encouraged to browse the web for help.\n",
    "\n",
    "[PyTorch](https://pytorch.org/) is the preferred framework.\n",
    "\n",
    "### Evaluation\n",
    "\n",
    "You can solve this in any way, however you will be evaluated on the method you used.\n",
    "\n",
    "Evaluation will be based on:\n",
    "\n",
    "- code is functional (it works)\n",
    "- time\n",
    "- code is organized\n",
    "- bonus tasks\n",
    "\n",
    "\n",
    "### Tips\n",
    "\n",
    "- Use the internet!\n",
    "- Take your time reading, in fact go over the entire notebook first before writing anything\n",
    "- Ask for help if you get stuck\n",
    "- If one thing doesn't work, try something else (even if it's sub-optimal)\n",
    "- Check your output often, check the data shape makes sense and plot images to prevent confusion or errors\n",
    "- Keep track of time\n",
    "- Don't forget to enjoy and benefit from the excercise :)\n",
    "\n",
    "### Setup\n",
    "\n",
    "This is a [jupyter notebook](https://jupyter.org/),\n",
    "here are some [keyboard shortcuts](http://maxmelnick.com/2016/04/19/python-beginner-tips-and-tricks.html) to get you started.\n",
    "\n",
    "You can run terminal commands using `!` such as:\n",
    "\n",
    "```shell script\n",
    "!echo \"this is a command\"\n",
    "```\n",
    "\n",
    "### Workstation/PC specs\n",
    "\n",
    "The workstation you have is a [LambdaLabs](https://lambdalabs.com/deep-learning/workstations/2-gpu) dual RTX 8000 GPUs, each with 50GB of VRAM.  \n",
    "**It is advised to utilize both GPUs whenever possible to speedup computation**.\n",
    "\n",
    "To get more details, run `!nvidia-smi`"
   ]
  },
  {
   "cell_type": "code",
   "execution_count": null,
   "metadata": {},
   "outputs": [],
   "source": []
  },
  {
   "cell_type": "markdown",
   "metadata": {},
   "source": [
    "## Bonus 1: Visualization (tensorboard is recommended)\n",
    "\n",
    "Visualize losses, and anything else that may be helpful\n",
    "\n",
    "## Bonus 2: Hyperparameter search (gridsearch)\n",
    "\n"
   ]
  },
  {
   "cell_type": "code",
   "execution_count": null,
   "metadata": {
    "pycharm": {
     "name": "#%%\n"
    }
   },
   "outputs": [],
   "source": [
    "import os\n",
    "\n",
    "# Constant filepaths\n",
    "imgs_path = 'img_align_celeba/'\n",
    "cropped_imgs_path = 'img_align_celeba_cropped/'\n",
    "\n",
    "os.makedirs(cropped_imgs_path, exist_ok=True)"
   ]
  },
  {
   "cell_type": "markdown",
   "metadata": {},
   "source": [
    "## Install [DSFD Face detector](https://github.com/hukkelas/DSFD-Pytorch-Inference)"
   ]
  },
  {
   "cell_type": "code",
   "execution_count": null,
   "metadata": {},
   "outputs": [],
   "source": [
    "# code here ..."
   ]
  },
  {
   "cell_type": "markdown",
   "metadata": {
    "pycharm": {
     "name": "#%% md\n"
    }
   },
   "source": [
    "## Crop faces\n",
    "\n",
    "Run the DSFD face detector to crop the faces (to make the problem easier to solve for our classifier)\n",
    "\n",
    "This part might take a while to run so **do** ask for help when you get here\n",
    "\n",
    "### Expected output\n",
    "\n",
    "A folder with cropped faces"
   ]
  },
  {
   "cell_type": "code",
   "execution_count": null,
   "metadata": {},
   "outputs": [],
   "source": [
    "# code here ..."
   ]
  },
  {
   "cell_type": "markdown",
   "metadata": {},
   "source": [
    "## Build dataloaders\n",
    "\n",
    "### Expected output:\n",
    "\n",
    "Train loader and test loader, each with 2 classes: `eyeglasses` and `no-eyeglasses`"
   ]
  },
  {
   "cell_type": "code",
   "execution_count": null,
   "metadata": {
    "pycharm": {
     "name": "#%%\n"
    }
   },
   "outputs": [],
   "source": [
    "attributes_map_file = 'list_attr_celeba.txt'\n",
    "target_attribute = 'Eyeglasses'\n",
    "\n",
    "# code here ..."
   ]
  },
  {
   "cell_type": "markdown",
   "metadata": {
    "pycharm": {
     "name": "#%% md\n"
    }
   },
   "source": [
    "## build a classifier\n",
    "(transfer learning is recommended)\n",
    "\n",
    "### Expected output\n",
    "\n",
    "a pytorch classifier model to classify `eyeglasses` vs `no-eyeglasses`"
   ]
  },
  {
   "cell_type": "code",
   "execution_count": null,
   "metadata": {},
   "outputs": [],
   "source": [
    "# code here ..."
   ]
  },
  {
   "cell_type": "markdown",
   "metadata": {},
   "source": [
    "## Train\n",
    "\n",
    "### Expected output:\n",
    "\n",
    "a trained model"
   ]
  },
  {
   "cell_type": "code",
   "execution_count": null,
   "metadata": {},
   "outputs": [],
   "source": [
    "# code here ..."
   ]
  },
  {
   "cell_type": "markdown",
   "metadata": {},
   "source": [
    "## Evaluation\n",
    "\n",
    "Properly evaluate the trained model and interpret results"
   ]
  },
  {
   "cell_type": "code",
   "execution_count": null,
   "metadata": {},
   "outputs": [],
   "source": [
    "# code here ..."
   ]
  },
  {
   "cell_type": "markdown",
   "metadata": {},
   "source": [
    "## reflection\n",
    "\n",
    "Explain your results and mention any improvements you could've made\n",
    "\n",
    "This is an open-ended question"
   ]
  },
  {
   "cell_type": "markdown",
   "metadata": {},
   "source": [
    "text here"
   ]
  },
  {
   "cell_type": "code",
   "execution_count": null,
   "metadata": {},
   "outputs": [],
   "source": []
  }
 ],
 "metadata": {
  "kernelspec": {
   "display_name": "Python 3",
   "language": "python",
   "name": "python3"
  },
  "language_info": {
   "codemirror_mode": {
    "name": "ipython",
    "version": 3
   },
   "file_extension": ".py",
   "mimetype": "text/x-python",
   "name": "python",
   "nbconvert_exporter": "python",
   "pygments_lexer": "ipython3",
   "version": "3.8.5"
  },
  "toc": {
   "base_numbering": 1,
   "nav_menu": {},
   "number_sections": true,
   "sideBar": true,
   "skip_h1_title": false,
   "title_cell": "Table of Contents",
   "title_sidebar": "Contents",
   "toc_cell": false,
   "toc_position": {
    "height": "calc(100% - 180px)",
    "left": "10px",
    "top": "150px",
    "width": "397.65px"
   },
   "toc_section_display": true,
   "toc_window_display": true
  }
 },
 "nbformat": 4,
 "nbformat_minor": 4
}
